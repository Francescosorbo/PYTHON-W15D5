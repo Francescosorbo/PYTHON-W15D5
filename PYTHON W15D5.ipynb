{
 "cells": [
  {
   "cell_type": "markdown",
   "id": "cb09aeb2-122f-4cdf-860d-7d34eae0c6d5",
   "metadata": {},
   "source": [
    "## ESERCIZIO W15D5"
   ]
  },
  {
   "cell_type": "markdown",
   "id": "8452b713-e184-4b26-98dc-b82cc845b694",
   "metadata": {},
   "source": [
    "### Il dataset insurance.csv\n",
    "* Visualizziamone le dimensioni, un'anteprima, e osserviamo i nomi di colonna;\n",
    "*  Quali sono le medie di charges rispetto a region? Ci sono differenze significative?\n",
    "*  E rispetto a smoker? E a sex?\n",
    "*  Quali sono i descrittori statistici di bmi? Quali sono minimo, media e massimo di charges rispetto ai diversi quartili dei valori di bmi? Nota: è lo stesso esercizio della volta scorsa, ma stavolta da eseguire con il "
   ]
  },
  {
   "cell_type": "code",
   "execution_count": 1,
   "id": "5720a21d-cb32-43aa-a998-ab2dc678ab98",
   "metadata": {},
   "outputs": [],
   "source": [
    "import pandas as pd"
   ]
  },
  {
   "cell_type": "code",
   "execution_count": 3,
   "id": "738765ce-6d99-44fa-a831-2d154fa521d2",
   "metadata": {},
   "outputs": [],
   "source": [
    "file_path = \"beginner_datasets/insurance.csv\"\n",
    "insurance = pd.read_csv(file_path)"
   ]
  },
  {
   "cell_type": "code",
   "execution_count": 5,
   "id": "dc0b663b-807c-49c9-9acd-15db24388f05",
   "metadata": {},
   "outputs": [
    {
     "data": {
      "text/html": [
       "<div>\n",
       "<style scoped>\n",
       "    .dataframe tbody tr th:only-of-type {\n",
       "        vertical-align: middle;\n",
       "    }\n",
       "\n",
       "    .dataframe tbody tr th {\n",
       "        vertical-align: top;\n",
       "    }\n",
       "\n",
       "    .dataframe thead th {\n",
       "        text-align: right;\n",
       "    }\n",
       "</style>\n",
       "<table border=\"1\" class=\"dataframe\">\n",
       "  <thead>\n",
       "    <tr style=\"text-align: right;\">\n",
       "      <th></th>\n",
       "      <th>age</th>\n",
       "      <th>sex</th>\n",
       "      <th>bmi</th>\n",
       "      <th>children</th>\n",
       "      <th>smoker</th>\n",
       "      <th>region</th>\n",
       "      <th>charges</th>\n",
       "    </tr>\n",
       "  </thead>\n",
       "  <tbody>\n",
       "    <tr>\n",
       "      <th>0</th>\n",
       "      <td>19</td>\n",
       "      <td>female</td>\n",
       "      <td>27.900</td>\n",
       "      <td>0</td>\n",
       "      <td>yes</td>\n",
       "      <td>southwest</td>\n",
       "      <td>16884.92400</td>\n",
       "    </tr>\n",
       "    <tr>\n",
       "      <th>1</th>\n",
       "      <td>18</td>\n",
       "      <td>male</td>\n",
       "      <td>33.770</td>\n",
       "      <td>1</td>\n",
       "      <td>no</td>\n",
       "      <td>southeast</td>\n",
       "      <td>1725.55230</td>\n",
       "    </tr>\n",
       "    <tr>\n",
       "      <th>2</th>\n",
       "      <td>28</td>\n",
       "      <td>male</td>\n",
       "      <td>33.000</td>\n",
       "      <td>3</td>\n",
       "      <td>no</td>\n",
       "      <td>southeast</td>\n",
       "      <td>4449.46200</td>\n",
       "    </tr>\n",
       "    <tr>\n",
       "      <th>3</th>\n",
       "      <td>33</td>\n",
       "      <td>male</td>\n",
       "      <td>22.705</td>\n",
       "      <td>0</td>\n",
       "      <td>no</td>\n",
       "      <td>northwest</td>\n",
       "      <td>21984.47061</td>\n",
       "    </tr>\n",
       "    <tr>\n",
       "      <th>4</th>\n",
       "      <td>32</td>\n",
       "      <td>male</td>\n",
       "      <td>28.880</td>\n",
       "      <td>0</td>\n",
       "      <td>no</td>\n",
       "      <td>northwest</td>\n",
       "      <td>3866.85520</td>\n",
       "    </tr>\n",
       "    <tr>\n",
       "      <th>...</th>\n",
       "      <td>...</td>\n",
       "      <td>...</td>\n",
       "      <td>...</td>\n",
       "      <td>...</td>\n",
       "      <td>...</td>\n",
       "      <td>...</td>\n",
       "      <td>...</td>\n",
       "    </tr>\n",
       "    <tr>\n",
       "      <th>1333</th>\n",
       "      <td>50</td>\n",
       "      <td>male</td>\n",
       "      <td>30.970</td>\n",
       "      <td>3</td>\n",
       "      <td>no</td>\n",
       "      <td>northwest</td>\n",
       "      <td>10600.54830</td>\n",
       "    </tr>\n",
       "    <tr>\n",
       "      <th>1334</th>\n",
       "      <td>18</td>\n",
       "      <td>female</td>\n",
       "      <td>31.920</td>\n",
       "      <td>0</td>\n",
       "      <td>no</td>\n",
       "      <td>northeast</td>\n",
       "      <td>2205.98080</td>\n",
       "    </tr>\n",
       "    <tr>\n",
       "      <th>1335</th>\n",
       "      <td>18</td>\n",
       "      <td>female</td>\n",
       "      <td>36.850</td>\n",
       "      <td>0</td>\n",
       "      <td>no</td>\n",
       "      <td>southeast</td>\n",
       "      <td>1629.83350</td>\n",
       "    </tr>\n",
       "    <tr>\n",
       "      <th>1336</th>\n",
       "      <td>21</td>\n",
       "      <td>female</td>\n",
       "      <td>25.800</td>\n",
       "      <td>0</td>\n",
       "      <td>no</td>\n",
       "      <td>southwest</td>\n",
       "      <td>2007.94500</td>\n",
       "    </tr>\n",
       "    <tr>\n",
       "      <th>1337</th>\n",
       "      <td>61</td>\n",
       "      <td>female</td>\n",
       "      <td>29.070</td>\n",
       "      <td>0</td>\n",
       "      <td>yes</td>\n",
       "      <td>northwest</td>\n",
       "      <td>29141.36030</td>\n",
       "    </tr>\n",
       "  </tbody>\n",
       "</table>\n",
       "<p>1338 rows × 7 columns</p>\n",
       "</div>"
      ],
      "text/plain": [
       "      age     sex     bmi  children smoker     region      charges\n",
       "0      19  female  27.900         0    yes  southwest  16884.92400\n",
       "1      18    male  33.770         1     no  southeast   1725.55230\n",
       "2      28    male  33.000         3     no  southeast   4449.46200\n",
       "3      33    male  22.705         0     no  northwest  21984.47061\n",
       "4      32    male  28.880         0     no  northwest   3866.85520\n",
       "...   ...     ...     ...       ...    ...        ...          ...\n",
       "1333   50    male  30.970         3     no  northwest  10600.54830\n",
       "1334   18  female  31.920         0     no  northeast   2205.98080\n",
       "1335   18  female  36.850         0     no  southeast   1629.83350\n",
       "1336   21  female  25.800         0     no  southwest   2007.94500\n",
       "1337   61  female  29.070         0    yes  northwest  29141.36030\n",
       "\n",
       "[1338 rows x 7 columns]"
      ]
     },
     "execution_count": 5,
     "metadata": {},
     "output_type": "execute_result"
    }
   ],
   "source": [
    "insurance"
   ]
  },
  {
   "cell_type": "code",
   "execution_count": 7,
   "id": "ab869983-957f-4cd5-807d-97a43bd66038",
   "metadata": {},
   "outputs": [
    {
     "data": {
      "text/plain": [
       "<bound method NDFrame.describe of       age     sex     bmi  children smoker     region      charges\n",
       "0      19  female  27.900         0    yes  southwest  16884.92400\n",
       "1      18    male  33.770         1     no  southeast   1725.55230\n",
       "2      28    male  33.000         3     no  southeast   4449.46200\n",
       "3      33    male  22.705         0     no  northwest  21984.47061\n",
       "4      32    male  28.880         0     no  northwest   3866.85520\n",
       "...   ...     ...     ...       ...    ...        ...          ...\n",
       "1333   50    male  30.970         3     no  northwest  10600.54830\n",
       "1334   18  female  31.920         0     no  northeast   2205.98080\n",
       "1335   18  female  36.850         0     no  southeast   1629.83350\n",
       "1336   21  female  25.800         0     no  southwest   2007.94500\n",
       "1337   61  female  29.070         0    yes  northwest  29141.36030\n",
       "\n",
       "[1338 rows x 7 columns]>"
      ]
     },
     "execution_count": 7,
     "metadata": {},
     "output_type": "execute_result"
    }
   ],
   "source": [
    "insurance.describe"
   ]
  },
  {
   "cell_type": "code",
   "execution_count": 19,
   "id": "cc97c9a5-cf14-4a8c-b578-8881b5b8e3e8",
   "metadata": {},
   "outputs": [
    {
     "data": {
      "text/plain": [
       "Index(['age', 'sex', 'bmi', 'children', 'smoker', 'region', 'charges'], dtype='object')"
      ]
     },
     "execution_count": 19,
     "metadata": {},
     "output_type": "execute_result"
    }
   ],
   "source": [
    "insurance.columns"
   ]
  },
  {
   "cell_type": "code",
   "execution_count": 21,
   "id": "7c4554d6-38c1-4ec3-be92-85d7b1d66957",
   "metadata": {},
   "outputs": [
    {
     "data": {
      "text/plain": [
       "count    1338.000000\n",
       "mean       30.663397\n",
       "std         6.098187\n",
       "min        15.960000\n",
       "25%        26.296250\n",
       "50%        30.400000\n",
       "75%        34.693750\n",
       "max        53.130000\n",
       "Name: bmi, dtype: float64"
      ]
     },
     "execution_count": 21,
     "metadata": {},
     "output_type": "execute_result"
    }
   ],
   "source": [
    "desc_bmi = insurance.bmi.describe()\n",
    "desc_bmi"
   ]
  },
  {
   "cell_type": "code",
   "execution_count": 39,
   "id": "722eabd5-8ea8-4fc0-8236-8b8ec89365c1",
   "metadata": {},
   "outputs": [
    {
     "data": {
      "text/plain": [
       "10360.662825492538"
      ]
     },
     "execution_count": 39,
     "metadata": {},
     "output_type": "execute_result"
    }
   ],
   "source": [
    "filtro_bmi_1 = (desc_bmi.loc[\"min\"] <= insurance.bmi) &  (insurance.bmi < desc_bmi[\"25%\"])\n",
    "ins_1 = insurance.loc[filtro_bmi_1]\n",
    "ins_1.charges.mean()"
   ]
  },
  {
   "cell_type": "code",
   "execution_count": 43,
   "id": "9de5f167-7e54-4f5b-ae89-131b5e433718",
   "metadata": {},
   "outputs": [
    {
     "data": {
      "text/plain": [
       "11398.362224261262"
      ]
     },
     "execution_count": 43,
     "metadata": {},
     "output_type": "execute_result"
    }
   ],
   "source": [
    "filtro_bmi_2 = (desc_bmi.loc[\"25%\"] <= insurance.bmi) &  (insurance.bmi < desc_bmi[\"50%\"])\n",
    "ins_2 = insurance.loc[filtro_bmi_2]\n",
    "ins_2.charges.mean()"
   ]
  },
  {
   "cell_type": "code",
   "execution_count": 45,
   "id": "cf79afc3-e2e9-4d49-8ef1-c80670a15f5c",
   "metadata": {},
   "outputs": [
    {
     "data": {
      "text/plain": [
       "14323.550841999999"
      ]
     },
     "execution_count": 45,
     "metadata": {},
     "output_type": "execute_result"
    }
   ],
   "source": [
    "filtro_bmi_3 = (desc_bmi.loc[\"50%\"] <= insurance.bmi) &  (insurance.bmi < desc_bmi[\"75%\"])\n",
    "ins_3 = insurance.loc[filtro_bmi_3]\n",
    "ins_3.charges.mean()"
   ]
  },
  {
   "cell_type": "code",
   "execution_count": 47,
   "id": "03da521e-21f9-4d92-9d46-232566754cc5",
   "metadata": {},
   "outputs": [
    {
     "data": {
      "text/plain": [
       "17035.315355598803"
      ]
     },
     "execution_count": 47,
     "metadata": {},
     "output_type": "execute_result"
    }
   ],
   "source": [
    "filtro_bmi_4 = (desc_bmi.loc[\"75%\"] <= insurance.bmi) &  (insurance.bmi < desc_bmi[\"max\"])\n",
    "ins_4 = insurance.loc[filtro_bmi_4]\n",
    "ins_4.charges.mean()"
   ]
  },
  {
   "cell_type": "code",
   "execution_count": 30,
   "id": "274d142e-7b76-4aef-ac66-d98705bb7122",
   "metadata": {},
   "outputs": [],
   "source": [
    "import pandas as pd\n",
    "import seaborn as sas"
   ]
  },
  {
   "cell_type": "code",
   "execution_count": 8,
   "id": "4530090c-e330-41f7-848c-601cf27b90b3",
   "metadata": {},
   "outputs": [],
   "source": [
    "file_path = \"beginner_datasets/boston.csv\"\n",
    "boston = pd.read_csv(file_path)"
   ]
  },
  {
   "cell_type": "code",
   "execution_count": 10,
   "id": "80418dbb-1211-424c-9982-7f8da5c7db46",
   "metadata": {},
   "outputs": [
    {
     "data": {
      "text/html": [
       "<div>\n",
       "<style scoped>\n",
       "    .dataframe tbody tr th:only-of-type {\n",
       "        vertical-align: middle;\n",
       "    }\n",
       "\n",
       "    .dataframe tbody tr th {\n",
       "        vertical-align: top;\n",
       "    }\n",
       "\n",
       "    .dataframe thead th {\n",
       "        text-align: right;\n",
       "    }\n",
       "</style>\n",
       "<table border=\"1\" class=\"dataframe\">\n",
       "  <thead>\n",
       "    <tr style=\"text-align: right;\">\n",
       "      <th></th>\n",
       "      <th>crim</th>\n",
       "      <th>zn</th>\n",
       "      <th>indus</th>\n",
       "      <th>chas</th>\n",
       "      <th>nox</th>\n",
       "      <th>rm</th>\n",
       "      <th>age</th>\n",
       "      <th>dis</th>\n",
       "      <th>rad</th>\n",
       "      <th>tax</th>\n",
       "      <th>ptratio</th>\n",
       "      <th>black</th>\n",
       "      <th>lstat</th>\n",
       "      <th>medv</th>\n",
       "    </tr>\n",
       "  </thead>\n",
       "  <tbody>\n",
       "    <tr>\n",
       "      <th>0</th>\n",
       "      <td>0.00632</td>\n",
       "      <td>18.0</td>\n",
       "      <td>2.31</td>\n",
       "      <td>0</td>\n",
       "      <td>0.538</td>\n",
       "      <td>6.575</td>\n",
       "      <td>65.2</td>\n",
       "      <td>4.0900</td>\n",
       "      <td>1</td>\n",
       "      <td>296</td>\n",
       "      <td>15.3</td>\n",
       "      <td>396.90</td>\n",
       "      <td>4.98</td>\n",
       "      <td>24.0</td>\n",
       "    </tr>\n",
       "    <tr>\n",
       "      <th>1</th>\n",
       "      <td>0.02731</td>\n",
       "      <td>0.0</td>\n",
       "      <td>7.07</td>\n",
       "      <td>0</td>\n",
       "      <td>0.469</td>\n",
       "      <td>6.421</td>\n",
       "      <td>78.9</td>\n",
       "      <td>4.9671</td>\n",
       "      <td>2</td>\n",
       "      <td>242</td>\n",
       "      <td>17.8</td>\n",
       "      <td>396.90</td>\n",
       "      <td>9.14</td>\n",
       "      <td>21.6</td>\n",
       "    </tr>\n",
       "    <tr>\n",
       "      <th>2</th>\n",
       "      <td>0.02729</td>\n",
       "      <td>0.0</td>\n",
       "      <td>7.07</td>\n",
       "      <td>0</td>\n",
       "      <td>0.469</td>\n",
       "      <td>7.185</td>\n",
       "      <td>61.1</td>\n",
       "      <td>4.9671</td>\n",
       "      <td>2</td>\n",
       "      <td>242</td>\n",
       "      <td>17.8</td>\n",
       "      <td>392.83</td>\n",
       "      <td>4.03</td>\n",
       "      <td>34.7</td>\n",
       "    </tr>\n",
       "    <tr>\n",
       "      <th>3</th>\n",
       "      <td>0.03237</td>\n",
       "      <td>0.0</td>\n",
       "      <td>2.18</td>\n",
       "      <td>0</td>\n",
       "      <td>0.458</td>\n",
       "      <td>6.998</td>\n",
       "      <td>45.8</td>\n",
       "      <td>6.0622</td>\n",
       "      <td>3</td>\n",
       "      <td>222</td>\n",
       "      <td>18.7</td>\n",
       "      <td>394.63</td>\n",
       "      <td>2.94</td>\n",
       "      <td>33.4</td>\n",
       "    </tr>\n",
       "    <tr>\n",
       "      <th>4</th>\n",
       "      <td>0.06905</td>\n",
       "      <td>0.0</td>\n",
       "      <td>2.18</td>\n",
       "      <td>0</td>\n",
       "      <td>0.458</td>\n",
       "      <td>7.147</td>\n",
       "      <td>54.2</td>\n",
       "      <td>6.0622</td>\n",
       "      <td>3</td>\n",
       "      <td>222</td>\n",
       "      <td>18.7</td>\n",
       "      <td>396.90</td>\n",
       "      <td>5.33</td>\n",
       "      <td>36.2</td>\n",
       "    </tr>\n",
       "    <tr>\n",
       "      <th>...</th>\n",
       "      <td>...</td>\n",
       "      <td>...</td>\n",
       "      <td>...</td>\n",
       "      <td>...</td>\n",
       "      <td>...</td>\n",
       "      <td>...</td>\n",
       "      <td>...</td>\n",
       "      <td>...</td>\n",
       "      <td>...</td>\n",
       "      <td>...</td>\n",
       "      <td>...</td>\n",
       "      <td>...</td>\n",
       "      <td>...</td>\n",
       "      <td>...</td>\n",
       "    </tr>\n",
       "    <tr>\n",
       "      <th>501</th>\n",
       "      <td>0.06263</td>\n",
       "      <td>0.0</td>\n",
       "      <td>11.93</td>\n",
       "      <td>0</td>\n",
       "      <td>0.573</td>\n",
       "      <td>6.593</td>\n",
       "      <td>69.1</td>\n",
       "      <td>2.4786</td>\n",
       "      <td>1</td>\n",
       "      <td>273</td>\n",
       "      <td>21.0</td>\n",
       "      <td>391.99</td>\n",
       "      <td>9.67</td>\n",
       "      <td>22.4</td>\n",
       "    </tr>\n",
       "    <tr>\n",
       "      <th>502</th>\n",
       "      <td>0.04527</td>\n",
       "      <td>0.0</td>\n",
       "      <td>11.93</td>\n",
       "      <td>0</td>\n",
       "      <td>0.573</td>\n",
       "      <td>6.120</td>\n",
       "      <td>76.7</td>\n",
       "      <td>2.2875</td>\n",
       "      <td>1</td>\n",
       "      <td>273</td>\n",
       "      <td>21.0</td>\n",
       "      <td>396.90</td>\n",
       "      <td>9.08</td>\n",
       "      <td>20.6</td>\n",
       "    </tr>\n",
       "    <tr>\n",
       "      <th>503</th>\n",
       "      <td>0.06076</td>\n",
       "      <td>0.0</td>\n",
       "      <td>11.93</td>\n",
       "      <td>0</td>\n",
       "      <td>0.573</td>\n",
       "      <td>6.976</td>\n",
       "      <td>91.0</td>\n",
       "      <td>2.1675</td>\n",
       "      <td>1</td>\n",
       "      <td>273</td>\n",
       "      <td>21.0</td>\n",
       "      <td>396.90</td>\n",
       "      <td>5.64</td>\n",
       "      <td>23.9</td>\n",
       "    </tr>\n",
       "    <tr>\n",
       "      <th>504</th>\n",
       "      <td>0.10959</td>\n",
       "      <td>0.0</td>\n",
       "      <td>11.93</td>\n",
       "      <td>0</td>\n",
       "      <td>0.573</td>\n",
       "      <td>6.794</td>\n",
       "      <td>89.3</td>\n",
       "      <td>2.3889</td>\n",
       "      <td>1</td>\n",
       "      <td>273</td>\n",
       "      <td>21.0</td>\n",
       "      <td>393.45</td>\n",
       "      <td>6.48</td>\n",
       "      <td>22.0</td>\n",
       "    </tr>\n",
       "    <tr>\n",
       "      <th>505</th>\n",
       "      <td>0.04741</td>\n",
       "      <td>0.0</td>\n",
       "      <td>11.93</td>\n",
       "      <td>0</td>\n",
       "      <td>0.573</td>\n",
       "      <td>6.030</td>\n",
       "      <td>80.8</td>\n",
       "      <td>2.5050</td>\n",
       "      <td>1</td>\n",
       "      <td>273</td>\n",
       "      <td>21.0</td>\n",
       "      <td>396.90</td>\n",
       "      <td>7.88</td>\n",
       "      <td>11.9</td>\n",
       "    </tr>\n",
       "  </tbody>\n",
       "</table>\n",
       "<p>506 rows × 14 columns</p>\n",
       "</div>"
      ],
      "text/plain": [
       "        crim    zn  indus  chas    nox     rm   age     dis  rad  tax  \\\n",
       "0    0.00632  18.0   2.31     0  0.538  6.575  65.2  4.0900    1  296   \n",
       "1    0.02731   0.0   7.07     0  0.469  6.421  78.9  4.9671    2  242   \n",
       "2    0.02729   0.0   7.07     0  0.469  7.185  61.1  4.9671    2  242   \n",
       "3    0.03237   0.0   2.18     0  0.458  6.998  45.8  6.0622    3  222   \n",
       "4    0.06905   0.0   2.18     0  0.458  7.147  54.2  6.0622    3  222   \n",
       "..       ...   ...    ...   ...    ...    ...   ...     ...  ...  ...   \n",
       "501  0.06263   0.0  11.93     0  0.573  6.593  69.1  2.4786    1  273   \n",
       "502  0.04527   0.0  11.93     0  0.573  6.120  76.7  2.2875    1  273   \n",
       "503  0.06076   0.0  11.93     0  0.573  6.976  91.0  2.1675    1  273   \n",
       "504  0.10959   0.0  11.93     0  0.573  6.794  89.3  2.3889    1  273   \n",
       "505  0.04741   0.0  11.93     0  0.573  6.030  80.8  2.5050    1  273   \n",
       "\n",
       "     ptratio   black  lstat  medv  \n",
       "0       15.3  396.90   4.98  24.0  \n",
       "1       17.8  396.90   9.14  21.6  \n",
       "2       17.8  392.83   4.03  34.7  \n",
       "3       18.7  394.63   2.94  33.4  \n",
       "4       18.7  396.90   5.33  36.2  \n",
       "..       ...     ...    ...   ...  \n",
       "501     21.0  391.99   9.67  22.4  \n",
       "502     21.0  396.90   9.08  20.6  \n",
       "503     21.0  396.90   5.64  23.9  \n",
       "504     21.0  393.45   6.48  22.0  \n",
       "505     21.0  396.90   7.88  11.9  \n",
       "\n",
       "[506 rows x 14 columns]"
      ]
     },
     "execution_count": 10,
     "metadata": {},
     "output_type": "execute_result"
    }
   ],
   "source": [
    "boston"
   ]
  },
  {
   "cell_type": "code",
   "execution_count": 12,
   "id": "e8ff6f22-3ee4-4102-8405-371a6a36fc9c",
   "metadata": {},
   "outputs": [
    {
     "data": {
      "text/plain": [
       "Index(['crim', 'zn', 'indus', 'chas', 'nox', 'rm', 'age', 'dis', 'rad', 'tax',\n",
       "       'ptratio', 'black', 'lstat', 'medv'],\n",
       "      dtype='object')"
      ]
     },
     "execution_count": 12,
     "metadata": {},
     "output_type": "execute_result"
    }
   ],
   "source": [
    "boston.columns"
   ]
  },
  {
   "cell_type": "code",
   "execution_count": 14,
   "id": "1ba1a385-e250-4d93-8db5-0f6f5b18963c",
   "metadata": {},
   "outputs": [
    {
     "data": {
      "text/plain": [
       "chas\n",
       "0    22.093843\n",
       "1    28.440000\n",
       "Name: medv, dtype: float64"
      ]
     },
     "execution_count": 14,
     "metadata": {},
     "output_type": "execute_result"
    }
   ],
   "source": [
    "boston.groupby(\"chas\")[\"medv\"].mean()"
   ]
  },
  {
   "cell_type": "code",
   "execution_count": 18,
   "id": "068b53fe-38d1-4598-a93b-c99e5e788923",
   "metadata": {},
   "outputs": [
    {
     "data": {
      "text/plain": [
       "crim\n",
       "0.00632     24.0\n",
       "0.00906     32.2\n",
       "0.01096     22.0\n",
       "0.01301     32.7\n",
       "0.01311     35.4\n",
       "            ... \n",
       "45.74610     7.0\n",
       "51.13580    15.0\n",
       "67.92080     5.0\n",
       "73.53410     8.8\n",
       "88.97620    10.4\n",
       "Name: medv, Length: 504, dtype: float64"
      ]
     },
     "execution_count": 18,
     "metadata": {},
     "output_type": "execute_result"
    }
   ],
   "source": [
    "boston.groupby(\"crim\")[\"medv\"].mean().sort_index()"
   ]
  },
  {
   "cell_type": "code",
   "execution_count": 20,
   "id": "9437b74a-69e4-4728-b527-4551b6e78e86",
   "metadata": {},
   "outputs": [
    {
     "data": {
      "text/plain": [
       "ptratio\n",
       "12.6    7.222667\n",
       "13.0    7.406167\n",
       "13.6    7.923000\n",
       "14.4    7.875000\n",
       "14.7    6.246235\n",
       "14.8    6.752333\n",
       "14.9    7.311250\n",
       "15.1    6.816000\n",
       "15.2    6.421923\n",
       "15.3    6.705333\n",
       "15.5    7.241000\n",
       "15.6    6.702000\n",
       "15.9    6.997000\n",
       "16.0    6.230600\n",
       "16.1    6.428800\n",
       "16.4    6.139667\n",
       "16.6    6.344188\n",
       "16.8    6.146750\n",
       "16.9    6.016400\n",
       "17.0    6.868250\n",
       "17.3    6.383000\n",
       "17.4    7.212333\n",
       "17.6    6.822429\n",
       "17.8    6.496130\n",
       "17.9    6.134818\n",
       "18.0    7.218600\n",
       "18.2    6.283000\n",
       "18.3    6.520500\n",
       "18.4    6.285938\n",
       "18.5    6.288750\n",
       "18.6    6.111588\n",
       "18.7    6.406556\n",
       "18.8    5.956000\n",
       "18.9    5.785667\n",
       "19.0    6.453750\n",
       "19.1    6.234882\n",
       "19.2    6.053632\n",
       "19.6    6.224000\n",
       "19.7    6.303250\n",
       "20.1    5.585400\n",
       "20.2    6.024021\n",
       "20.9    6.266273\n",
       "21.0    6.039778\n",
       "21.1    5.888000\n",
       "21.2    6.028533\n",
       "22.0    5.799500\n",
       "Name: rm, dtype: float64"
      ]
     },
     "execution_count": 20,
     "metadata": {},
     "output_type": "execute_result"
    }
   ],
   "source": [
    "boston.groupby(\"ptratio\")[\"rm\"].mean()"
   ]
  },
  {
   "cell_type": "code",
   "execution_count": 24,
   "id": "ec344f1e-9ba3-4e36-a706-ed4969c79deb",
   "metadata": {},
   "outputs": [
    {
     "data": {
      "text/plain": [
       "medv\n",
       "5.0     5.5680\n",
       "5.6     5.9870\n",
       "6.3     5.8520\n",
       "7.0     4.9665\n",
       "7.2     6.0180\n",
       "         ...  \n",
       "46.7    7.6860\n",
       "48.3    8.2470\n",
       "48.5    7.8530\n",
       "48.8    8.3980\n",
       "50.0    7.4840\n",
       "Name: rm, Length: 229, dtype: float64"
      ]
     },
     "execution_count": 24,
     "metadata": {},
     "output_type": "execute_result"
    }
   ],
   "source": [
    "boston.groupby(\"medv\")[\"rm\"].mean()"
   ]
  },
  {
   "cell_type": "code",
   "execution_count": 36,
   "id": "bdc88ca7-e91b-436c-8b66-4d2a613209f9",
   "metadata": {},
   "outputs": [
    {
     "data": {
      "text/plain": [
       "rad\n",
       "1     45.025000\n",
       "2     64.770833\n",
       "3     49.310526\n",
       "4     60.841818\n",
       "5     69.223478\n",
       "6     60.142308\n",
       "7     40.141176\n",
       "8     67.350000\n",
       "24    89.805303\n",
       "Name: age, dtype: float64"
      ]
     },
     "execution_count": 36,
     "metadata": {},
     "output_type": "execute_result"
    }
   ],
   "source": [
    "boston.groupby(\"rad\")[\"age\"].mean()"
   ]
  },
  {
   "cell_type": "code",
   "execution_count": 40,
   "id": "10fc853f-e42d-407f-9bbc-643ee1d87b66",
   "metadata": {},
   "outputs": [
    {
     "data": {
      "text/plain": [
       "rad\n",
       "1     6.555850\n",
       "2     6.649958\n",
       "3     6.473026\n",
       "4     6.133118\n",
       "5     6.393157\n",
       "6     6.104731\n",
       "7     6.647765\n",
       "8     6.950792\n",
       "24    6.022152\n",
       "Name: rm, dtype: float64"
      ]
     },
     "execution_count": 40,
     "metadata": {},
     "output_type": "execute_result"
    }
   ],
   "source": [
    "boston.groupby(\"rad\")[\"rm\"].mean()"
   ]
  },
  {
   "cell_type": "code",
   "execution_count": 42,
   "id": "ec533702-ccb1-4ab7-bc50-7dcfe8b1fe25",
   "metadata": {},
   "outputs": [
    {
     "data": {
      "text/plain": [
       "rad\n",
       "1     291.450000\n",
       "2     260.666667\n",
       "3     246.078947\n",
       "4     335.981818\n",
       "5     331.843478\n",
       "6     372.884615\n",
       "7     304.411765\n",
       "8     301.250000\n",
       "24    666.000000\n",
       "Name: tax, dtype: float64"
      ]
     },
     "execution_count": 42,
     "metadata": {},
     "output_type": "execute_result"
    }
   ],
   "source": [
    "boston.groupby(\"rad\")[\"tax\"].mean()"
   ]
  },
  {
   "cell_type": "code",
   "execution_count": 52,
   "id": "843d7920-383f-4ee1-9c22-4b59c73880b9",
   "metadata": {},
   "outputs": [
    {
     "data": {
      "text/plain": [
       "<Axes: xlabel='rad'>"
      ]
     },
     "execution_count": 52,
     "metadata": {},
     "output_type": "execute_result"
    },
    {
     "data": {
      "image/png": "[encoded data removed]",
      "text/plain": [
       "<Figure size 640x480 with 1 Axes>"
      ]
     },
     "metadata": {},
     "output_type": "display_data"
    }
   ],
   "source": [
    "boston.groupby(\"rad\").medv.mean().plot()"
   ]
  },
  {
   "cell_type": "code",
   "execution_count": 54,
   "id": "43f4fede-aa49-4362-b0c5-939c63d32234",
   "metadata": {},
   "outputs": [
    {
     "data": {
      "text/plain": [
       "<Axes: xlabel='rad'>"
      ]
     },
     "execution_count": 54,
     "metadata": {},
     "output_type": "execute_result"
    },
    {
     "data": {
      "image/png": "[encoded data removed]",
      "text/plain": [
       "<Figure size 640x480 with 1 Axes>"
      ]
     },
     "metadata": {},
     "output_type": "display_data"
    }
   ],
   "source": [
    "boston.groupby(\"rad\").tax.mean().plot()"
   ]
  },
  {
   "cell_type": "code",
   "execution_count": 56,
   "id": "4447cd14-ae14-42d6-a233-e9be061871e0",
   "metadata": {},
   "outputs": [],
   "source": [
    "employees_df = pd.DataFrame({ 'employee_id': [101, 102, 103, 104, 105],\n",
    "                             'name': ['Alice', 'Bob', 'Charlie', 'David',\n",
    "                                      'Emma'], 'department_id': [1, 2, 1, 2, 3] })"
   ]
  },
  {
   "cell_type": "code",
   "execution_count": 58,
   "id": "dac64667-1ccb-4b80-8a09-3e46c914a20e",
   "metadata": {},
   "outputs": [],
   "source": [
    "departments_df = pd.DataFrame({ 'department_id': [1, 2, 3], 'department_name':\n",
    "                               ['HR', 'IT', 'Finance'], 'location':\n",
    "                               ['New York', 'San Francisco', 'Chicago'] })"
   ]
  },
  {
   "cell_type": "code",
   "execution_count": 95,
   "id": "b204a986-b6f4-4633-a406-c96b308f2d4a",
   "metadata": {},
   "outputs": [
    {
     "data": {
      "text/html": [
       "<div>\n",
       "<style scoped>\n",
       "    .dataframe tbody tr th:only-of-type {\n",
       "        vertical-align: middle;\n",
       "    }\n",
       "\n",
       "    .dataframe tbody tr th {\n",
       "        vertical-align: top;\n",
       "    }\n",
       "\n",
       "    .dataframe thead th {\n",
       "        text-align: right;\n",
       "    }\n",
       "</style>\n",
       "<table border=\"1\" class=\"dataframe\">\n",
       "  <thead>\n",
       "    <tr style=\"text-align: right;\">\n",
       "      <th></th>\n",
       "      <th>department_id</th>\n",
       "      <th>employee_id</th>\n",
       "      <th>name</th>\n",
       "      <th>department_name</th>\n",
       "      <th>location</th>\n",
       "    </tr>\n",
       "  </thead>\n",
       "  <tbody>\n",
       "    <tr>\n",
       "      <th>0</th>\n",
       "      <td>1</td>\n",
       "      <td>101</td>\n",
       "      <td>Alice</td>\n",
       "      <td>HR</td>\n",
       "      <td>New York</td>\n",
       "    </tr>\n",
       "    <tr>\n",
       "      <th>1</th>\n",
       "      <td>1</td>\n",
       "      <td>103</td>\n",
       "      <td>Charlie</td>\n",
       "      <td>HR</td>\n",
       "      <td>New York</td>\n",
       "    </tr>\n",
       "    <tr>\n",
       "      <th>2</th>\n",
       "      <td>2</td>\n",
       "      <td>102</td>\n",
       "      <td>Bob</td>\n",
       "      <td>IT</td>\n",
       "      <td>San Francisco</td>\n",
       "    </tr>\n",
       "    <tr>\n",
       "      <th>3</th>\n",
       "      <td>2</td>\n",
       "      <td>104</td>\n",
       "      <td>David</td>\n",
       "      <td>IT</td>\n",
       "      <td>San Francisco</td>\n",
       "    </tr>\n",
       "    <tr>\n",
       "      <th>4</th>\n",
       "      <td>3</td>\n",
       "      <td>105</td>\n",
       "      <td>Emma</td>\n",
       "      <td>Finance</td>\n",
       "      <td>Chicago</td>\n",
       "    </tr>\n",
       "  </tbody>\n",
       "</table>\n",
       "</div>"
      ],
      "text/plain": [
       "   department_id  employee_id     name department_name       location\n",
       "0              1          101    Alice              HR       New York\n",
       "1              1          103  Charlie              HR       New York\n",
       "2              2          102      Bob              IT  San Francisco\n",
       "3              2          104    David              IT  San Francisco\n",
       "4              3          105     Emma         Finance        Chicago"
      ]
     },
     "execution_count": 95,
     "metadata": {},
     "output_type": "execute_result"
    }
   ],
   "source": [
    "employees_df.merge(departments_df,how = \"inner\",on=\"department_id\")"
   ]
  },
  {
   "cell_type": "code",
   "execution_count": 80,
   "id": "4c9c0664-8f53-4e28-84a8-cbace05d0461",
   "metadata": {},
   "outputs": [
    {
     "name": "stdout",
     "output_type": "stream",
     "text": [
      "Defaulting to user installation because normal site-packages is not writeable\n",
      "Requirement already satisfied: PyMySQL in c:\\users\\hp\\appdata\\roaming\\python\\python311\\site-packages (1.1.1)\n",
      "Note: you may need to restart the kernel to use updated packages.\n"
     ]
    }
   ],
   "source": [
    "pip install PyMySQL"
   ]
  },
  {
   "cell_type": "code",
   "execution_count": 82,
   "id": "575f1ab4-696b-42bf-ab16-13ba7615e0a6",
   "metadata": {},
   "outputs": [
    {
     "name": "stdout",
     "output_type": "stream",
     "text": [
      "Defaulting to user installation because normal site-packages is not writeable\n",
      "Requirement already satisfied: PyMySQL in c:\\users\\hp\\appdata\\roaming\\python\\python311\\site-packages (1.1.1)\n",
      "Note: you may need to restart the kernel to use updated packages.\n"
     ]
    }
   ],
   "source": [
    "pip install PyMySQL"
   ]
  },
  {
   "cell_type": "code",
   "execution_count": 84,
   "id": "e56ebbf0-ee0e-4134-9a72-36ed329e6fc5",
   "metadata": {},
   "outputs": [
    {
     "name": "stdout",
     "output_type": "stream",
     "text": [
      "Defaulting to user installation because normal site-packages is not writeable\n",
      "Requirement already satisfied: python_dotenv in c:\\programdata\\anaconda3\\lib\\site-packages (0.21.0)\n",
      "Note: you may need to restart the kernel to use updated packages.\n"
     ]
    }
   ],
   "source": [
    "pip install python_dotenv"
   ]
  },
  {
   "cell_type": "code",
   "execution_count": 108,
   "id": "d5d28499-e96e-4391-b8a2-a9e1f27b3123",
   "metadata": {},
   "outputs": [],
   "source": [
    "import os\n",
    "import dotenv\n",
    "import pandas as pd\n",
    "from sqlalchemy import create_engine\n",
    "\n",
    "dotenv.load_dotenv(dotenv_path=\".env\", override=True)\n",
    "\n",
    "username = os.getenv(\"username\")\n",
    "password = os.getenv(\"password\")\n",
    "host = os.getenv(\"host\")\n",
    "dbname = os.getenv(\"dbname\")\n",
    "\n",
    "dotenv.load_dotenv(override=True)\n",
    "conn_string = \"mysql+pymysql://\" + username + \":\" + password + \"@\" + host + \"/\" + dbname\n",
    "db_engine = create_engine(conn_string)"
   ]
  },
  {
   "cell_type": "code",
   "execution_count": 110,
   "id": "0a1f8a2a-66f9-4d74-bd5a-782ca109c2ce",
   "metadata": {},
   "outputs": [],
   "source": [
    "query = \"SELECT * FROM dimemployee\"\n",
    "employee = pd.read_sql(sql=query, con=db_engine)"
   ]
  },
  {
   "cell_type": "code",
   "execution_count": 114,
   "id": "b0b75bc1-4d2e-4f5b-baaa-736b2723ffe9",
   "metadata": {},
   "outputs": [],
   "source": [
    "query = \"SELECT * FROM dimemployeesalesterritory\"\n",
    "salesterritory = pd.read_sql(sql=query, con=db_engine)"
   ]
  },
  {
   "cell_type": "code",
   "execution_count": 116,
   "id": "2ed1bcc4-6369-4099-ae9a-c9d66d32a30c",
   "metadata": {},
   "outputs": [
    {
     "data": {
      "text/html": [
       "<div>\n",
       "<style scoped>\n",
       "    .dataframe tbody tr th:only-of-type {\n",
       "        vertical-align: middle;\n",
       "    }\n",
       "\n",
       "    .dataframe tbody tr th {\n",
       "        vertical-align: top;\n",
       "    }\n",
       "\n",
       "    .dataframe thead th {\n",
       "        text-align: right;\n",
       "    }\n",
       "</style>\n",
       "<table border=\"1\" class=\"dataframe\">\n",
       "  <thead>\n",
       "    <tr style=\"text-align: right;\">\n",
       "      <th></th>\n",
       "      <th>EmployeeKey</th>\n",
       "      <th>ParentEmployeeKey</th>\n",
       "      <th>EmployeeNationalIDAlternateKey</th>\n",
       "      <th>ParentEmployeeNationalIDAlternateKey</th>\n",
       "      <th>FirstName</th>\n",
       "      <th>LastName</th>\n",
       "      <th>MiddleName</th>\n",
       "      <th>NameStyle</th>\n",
       "      <th>Title</th>\n",
       "      <th>HireDate</th>\n",
       "      <th>...</th>\n",
       "      <th>Gender</th>\n",
       "      <th>PayFrequency</th>\n",
       "      <th>BaseRate</th>\n",
       "      <th>VacationHours</th>\n",
       "      <th>SickLeaveHours</th>\n",
       "      <th>CurrentFlag</th>\n",
       "      <th>SalesPersonFlag</th>\n",
       "      <th>DepartmentName</th>\n",
       "      <th>EmployeePhoto</th>\n",
       "      <th>Position</th>\n",
       "    </tr>\n",
       "  </thead>\n",
       "  <tbody>\n",
       "    <tr>\n",
       "      <th>0</th>\n",
       "      <td>1</td>\n",
       "      <td>18.0</td>\n",
       "      <td>14417807</td>\n",
       "      <td>446466105.0</td>\n",
       "      <td>Guy</td>\n",
       "      <td>Gilbert</td>\n",
       "      <td>R</td>\n",
       "      <td>0</td>\n",
       "      <td>Production Technician - WC60</td>\n",
       "      <td>2006-01-28</td>\n",
       "      <td>...</td>\n",
       "      <td>M</td>\n",
       "      <td>1</td>\n",
       "      <td>12.4500</td>\n",
       "      <td>21</td>\n",
       "      <td>30</td>\n",
       "      <td>1</td>\n",
       "      <td>0</td>\n",
       "      <td>Production</td>\n",
       "      <td>b'\\xff\\xd8\\xff\\xe0\\x00\\x10JFIF\\x00\\x01\\x01\\x01...</td>\n",
       "      <td>None</td>\n",
       "    </tr>\n",
       "    <tr>\n",
       "      <th>1</th>\n",
       "      <td>2</td>\n",
       "      <td>7.0</td>\n",
       "      <td>253022876</td>\n",
       "      <td>24756624.0</td>\n",
       "      <td>Kevin</td>\n",
       "      <td>Brown</td>\n",
       "      <td>F</td>\n",
       "      <td>0</td>\n",
       "      <td>Marketing Assistant</td>\n",
       "      <td>2006-08-26</td>\n",
       "      <td>...</td>\n",
       "      <td>M</td>\n",
       "      <td>2</td>\n",
       "      <td>13.4615</td>\n",
       "      <td>42</td>\n",
       "      <td>41</td>\n",
       "      <td>1</td>\n",
       "      <td>0</td>\n",
       "      <td>Marketing</td>\n",
       "      <td>b'\\xff\\xd8\\xff\\xe0\\x00\\x10JFIF\\x00\\x01\\x01\\x01...</td>\n",
       "      <td>None</td>\n",
       "    </tr>\n",
       "    <tr>\n",
       "      <th>2</th>\n",
       "      <td>3</td>\n",
       "      <td>14.0</td>\n",
       "      <td>509647174</td>\n",
       "      <td>245797967.0</td>\n",
       "      <td>Roberto</td>\n",
       "      <td>Tamburello</td>\n",
       "      <td>None</td>\n",
       "      <td>0</td>\n",
       "      <td>Engineering Manager</td>\n",
       "      <td>2007-06-11</td>\n",
       "      <td>...</td>\n",
       "      <td>M</td>\n",
       "      <td>2</td>\n",
       "      <td>43.2692</td>\n",
       "      <td>2</td>\n",
       "      <td>21</td>\n",
       "      <td>1</td>\n",
       "      <td>0</td>\n",
       "      <td>Engineering</td>\n",
       "      <td>b'\\xff\\xd8\\xff\\xe0\\x00\\x10JFIF\\x00\\x01\\x01\\x01...</td>\n",
       "      <td>None</td>\n",
       "    </tr>\n",
       "    <tr>\n",
       "      <th>3</th>\n",
       "      <td>4</td>\n",
       "      <td>3.0</td>\n",
       "      <td>112457891</td>\n",
       "      <td>509647174.0</td>\n",
       "      <td>Rob</td>\n",
       "      <td>Walters</td>\n",
       "      <td>None</td>\n",
       "      <td>0</td>\n",
       "      <td>Senior Tool Designer</td>\n",
       "      <td>2007-07-05</td>\n",
       "      <td>...</td>\n",
       "      <td>M</td>\n",
       "      <td>2</td>\n",
       "      <td>29.8462</td>\n",
       "      <td>48</td>\n",
       "      <td>80</td>\n",
       "      <td>1</td>\n",
       "      <td>0</td>\n",
       "      <td>Tool Design</td>\n",
       "      <td>b'\\xff\\xd8\\xff\\xe0\\x00\\x10JFIF\\x00\\x01\\x01\\x01...</td>\n",
       "      <td>None</td>\n",
       "    </tr>\n",
       "    <tr>\n",
       "      <th>4</th>\n",
       "      <td>5</td>\n",
       "      <td>3.0</td>\n",
       "      <td>112457891</td>\n",
       "      <td>509647174.0</td>\n",
       "      <td>Rob</td>\n",
       "      <td>Walters</td>\n",
       "      <td>None</td>\n",
       "      <td>0</td>\n",
       "      <td>Senior Tool Designer</td>\n",
       "      <td>2007-07-05</td>\n",
       "      <td>...</td>\n",
       "      <td>M</td>\n",
       "      <td>2</td>\n",
       "      <td>29.8462</td>\n",
       "      <td>48</td>\n",
       "      <td>80</td>\n",
       "      <td>1</td>\n",
       "      <td>0</td>\n",
       "      <td>Tool Design</td>\n",
       "      <td>b'\\xff\\xd8\\xff\\xe0\\x00\\x10JFIF\\x00\\x01\\x01\\x01...</td>\n",
       "      <td>None</td>\n",
       "    </tr>\n",
       "  </tbody>\n",
       "</table>\n",
       "<p>5 rows × 28 columns</p>\n",
       "</div>"
      ],
      "text/plain": [
       "   EmployeeKey  ParentEmployeeKey  EmployeeNationalIDAlternateKey  \\\n",
       "0            1               18.0                        14417807   \n",
       "1            2                7.0                       253022876   \n",
       "2            3               14.0                       509647174   \n",
       "3            4                3.0                       112457891   \n",
       "4            5                3.0                       112457891   \n",
       "\n",
       "   ParentEmployeeNationalIDAlternateKey FirstName    LastName MiddleName  \\\n",
       "0                           446466105.0       Guy     Gilbert          R   \n",
       "1                            24756624.0     Kevin       Brown          F   \n",
       "2                           245797967.0   Roberto  Tamburello       None   \n",
       "3                           509647174.0       Rob     Walters       None   \n",
       "4                           509647174.0       Rob     Walters       None   \n",
       "\n",
       "   NameStyle                         Title    HireDate  ... Gender  \\\n",
       "0          0  Production Technician - WC60  2006-01-28  ...      M   \n",
       "1          0           Marketing Assistant  2006-08-26  ...      M   \n",
       "2          0           Engineering Manager  2007-06-11  ...      M   \n",
       "3          0          Senior Tool Designer  2007-07-05  ...      M   \n",
       "4          0          Senior Tool Designer  2007-07-05  ...      M   \n",
       "\n",
       "  PayFrequency BaseRate VacationHours SickLeaveHours CurrentFlag  \\\n",
       "0            1  12.4500            21             30           1   \n",
       "1            2  13.4615            42             41           1   \n",
       "2            2  43.2692             2             21           1   \n",
       "3            2  29.8462            48             80           1   \n",
       "4            2  29.8462            48             80           1   \n",
       "\n",
       "  SalesPersonFlag  DepartmentName  \\\n",
       "0               0      Production   \n",
       "1               0       Marketing   \n",
       "2               0     Engineering   \n",
       "3               0     Tool Design   \n",
       "4               0     Tool Design   \n",
       "\n",
       "                                       EmployeePhoto  Position  \n",
       "0  b'\\xff\\xd8\\xff\\xe0\\x00\\x10JFIF\\x00\\x01\\x01\\x01...      None  \n",
       "1  b'\\xff\\xd8\\xff\\xe0\\x00\\x10JFIF\\x00\\x01\\x01\\x01...      None  \n",
       "2  b'\\xff\\xd8\\xff\\xe0\\x00\\x10JFIF\\x00\\x01\\x01\\x01...      None  \n",
       "3  b'\\xff\\xd8\\xff\\xe0\\x00\\x10JFIF\\x00\\x01\\x01\\x01...      None  \n",
       "4  b'\\xff\\xd8\\xff\\xe0\\x00\\x10JFIF\\x00\\x01\\x01\\x01...      None  \n",
       "\n",
       "[5 rows x 28 columns]"
      ]
     },
     "execution_count": 116,
     "metadata": {},
     "output_type": "execute_result"
    }
   ],
   "source": [
    "employee.head()"
   ]
  },
  {
   "cell_type": "code",
   "execution_count": 118,
   "id": "c7d84079-3252-4db3-a6da-c36078b53380",
   "metadata": {},
   "outputs": [
    {
     "data": {
      "text/html": [
       "<div>\n",
       "<style scoped>\n",
       "    .dataframe tbody tr th:only-of-type {\n",
       "        vertical-align: middle;\n",
       "    }\n",
       "\n",
       "    .dataframe tbody tr th {\n",
       "        vertical-align: top;\n",
       "    }\n",
       "\n",
       "    .dataframe thead th {\n",
       "        text-align: right;\n",
       "    }\n",
       "</style>\n",
       "<table border=\"1\" class=\"dataframe\">\n",
       "  <thead>\n",
       "    <tr style=\"text-align: right;\">\n",
       "      <th></th>\n",
       "      <th>EmployeeKey</th>\n",
       "      <th>SalesTerritoryKey</th>\n",
       "    </tr>\n",
       "  </thead>\n",
       "  <tbody>\n",
       "    <tr>\n",
       "      <th>0</th>\n",
       "      <td>272</td>\n",
       "      <td>1</td>\n",
       "    </tr>\n",
       "    <tr>\n",
       "      <th>1</th>\n",
       "      <td>277</td>\n",
       "      <td>1</td>\n",
       "    </tr>\n",
       "    <tr>\n",
       "      <th>2</th>\n",
       "      <td>286</td>\n",
       "      <td>1</td>\n",
       "    </tr>\n",
       "    <tr>\n",
       "      <th>3</th>\n",
       "      <td>289</td>\n",
       "      <td>1</td>\n",
       "    </tr>\n",
       "    <tr>\n",
       "      <th>4</th>\n",
       "      <td>293</td>\n",
       "      <td>1</td>\n",
       "    </tr>\n",
       "  </tbody>\n",
       "</table>\n",
       "</div>"
      ],
      "text/plain": [
       "   EmployeeKey  SalesTerritoryKey\n",
       "0          272                  1\n",
       "1          277                  1\n",
       "2          286                  1\n",
       "3          289                  1\n",
       "4          293                  1"
      ]
     },
     "execution_count": 118,
     "metadata": {},
     "output_type": "execute_result"
    }
   ],
   "source": [
    "salesterritory.head()"
   ]
  },
  {
   "cell_type": "code",
   "execution_count": 120,
   "id": "ac444b05-1b57-4608-86b3-bd9787a601b4",
   "metadata": {},
   "outputs": [],
   "source": [
    "est = pd.merge(left=employee , right=salesterritory, on=\"EmployeeKey\") "
   ]
  },
  {
   "cell_type": "code",
   "execution_count": 122,
   "id": "310efcd4-f956-466f-ba61-3fba96f1b8c6",
   "metadata": {},
   "outputs": [
    {
     "data": {
      "text/html": [
       "<div>\n",
       "<style scoped>\n",
       "    .dataframe tbody tr th:only-of-type {\n",
       "        vertical-align: middle;\n",
       "    }\n",
       "\n",
       "    .dataframe tbody tr th {\n",
       "        vertical-align: top;\n",
       "    }\n",
       "\n",
       "    .dataframe thead th {\n",
       "        text-align: right;\n",
       "    }\n",
       "</style>\n",
       "<table border=\"1\" class=\"dataframe\">\n",
       "  <thead>\n",
       "    <tr style=\"text-align: right;\">\n",
       "      <th></th>\n",
       "      <th>EmployeeKey</th>\n",
       "      <th>ParentEmployeeKey</th>\n",
       "      <th>EmployeeNationalIDAlternateKey</th>\n",
       "      <th>ParentEmployeeNationalIDAlternateKey</th>\n",
       "      <th>FirstName</th>\n",
       "      <th>LastName</th>\n",
       "      <th>MiddleName</th>\n",
       "      <th>NameStyle</th>\n",
       "      <th>Title</th>\n",
       "      <th>HireDate</th>\n",
       "      <th>...</th>\n",
       "      <th>PayFrequency</th>\n",
       "      <th>BaseRate</th>\n",
       "      <th>VacationHours</th>\n",
       "      <th>SickLeaveHours</th>\n",
       "      <th>CurrentFlag</th>\n",
       "      <th>SalesPersonFlag</th>\n",
       "      <th>DepartmentName</th>\n",
       "      <th>EmployeePhoto</th>\n",
       "      <th>Position</th>\n",
       "      <th>SalesTerritoryKey</th>\n",
       "    </tr>\n",
       "  </thead>\n",
       "  <tbody>\n",
       "    <tr>\n",
       "      <th>0</th>\n",
       "      <td>272</td>\n",
       "      <td>277.0</td>\n",
       "      <td>502097814</td>\n",
       "      <td>112432117.0</td>\n",
       "      <td>Stephen</td>\n",
       "      <td>Jiang</td>\n",
       "      <td>Y</td>\n",
       "      <td>0</td>\n",
       "      <td>North American Sales Manager</td>\n",
       "      <td>2010-08-04</td>\n",
       "      <td>...</td>\n",
       "      <td>2</td>\n",
       "      <td>48.101</td>\n",
       "      <td>14</td>\n",
       "      <td>27</td>\n",
       "      <td>1</td>\n",
       "      <td>1</td>\n",
       "      <td>Sales</td>\n",
       "      <td>b'\\xff\\xd8\\xff\\xe0\\x00\\x10JFIF\\x00\\x01\\x01\\x01...</td>\n",
       "      <td>Sales Manager</td>\n",
       "      <td>1</td>\n",
       "    </tr>\n",
       "    <tr>\n",
       "      <th>1</th>\n",
       "      <td>272</td>\n",
       "      <td>277.0</td>\n",
       "      <td>502097814</td>\n",
       "      <td>112432117.0</td>\n",
       "      <td>Stephen</td>\n",
       "      <td>Jiang</td>\n",
       "      <td>Y</td>\n",
       "      <td>0</td>\n",
       "      <td>North American Sales Manager</td>\n",
       "      <td>2010-08-04</td>\n",
       "      <td>...</td>\n",
       "      <td>2</td>\n",
       "      <td>48.101</td>\n",
       "      <td>14</td>\n",
       "      <td>27</td>\n",
       "      <td>1</td>\n",
       "      <td>1</td>\n",
       "      <td>Sales</td>\n",
       "      <td>b'\\xff\\xd8\\xff\\xe0\\x00\\x10JFIF\\x00\\x01\\x01\\x01...</td>\n",
       "      <td>Sales Manager</td>\n",
       "      <td>2</td>\n",
       "    </tr>\n",
       "    <tr>\n",
       "      <th>2</th>\n",
       "      <td>272</td>\n",
       "      <td>277.0</td>\n",
       "      <td>502097814</td>\n",
       "      <td>112432117.0</td>\n",
       "      <td>Stephen</td>\n",
       "      <td>Jiang</td>\n",
       "      <td>Y</td>\n",
       "      <td>0</td>\n",
       "      <td>North American Sales Manager</td>\n",
       "      <td>2010-08-04</td>\n",
       "      <td>...</td>\n",
       "      <td>2</td>\n",
       "      <td>48.101</td>\n",
       "      <td>14</td>\n",
       "      <td>27</td>\n",
       "      <td>1</td>\n",
       "      <td>1</td>\n",
       "      <td>Sales</td>\n",
       "      <td>b'\\xff\\xd8\\xff\\xe0\\x00\\x10JFIF\\x00\\x01\\x01\\x01...</td>\n",
       "      <td>Sales Manager</td>\n",
       "      <td>3</td>\n",
       "    </tr>\n",
       "    <tr>\n",
       "      <th>3</th>\n",
       "      <td>272</td>\n",
       "      <td>277.0</td>\n",
       "      <td>502097814</td>\n",
       "      <td>112432117.0</td>\n",
       "      <td>Stephen</td>\n",
       "      <td>Jiang</td>\n",
       "      <td>Y</td>\n",
       "      <td>0</td>\n",
       "      <td>North American Sales Manager</td>\n",
       "      <td>2010-08-04</td>\n",
       "      <td>...</td>\n",
       "      <td>2</td>\n",
       "      <td>48.101</td>\n",
       "      <td>14</td>\n",
       "      <td>27</td>\n",
       "      <td>1</td>\n",
       "      <td>1</td>\n",
       "      <td>Sales</td>\n",
       "      <td>b'\\xff\\xd8\\xff\\xe0\\x00\\x10JFIF\\x00\\x01\\x01\\x01...</td>\n",
       "      <td>Sales Manager</td>\n",
       "      <td>4</td>\n",
       "    </tr>\n",
       "    <tr>\n",
       "      <th>4</th>\n",
       "      <td>272</td>\n",
       "      <td>277.0</td>\n",
       "      <td>502097814</td>\n",
       "      <td>112432117.0</td>\n",
       "      <td>Stephen</td>\n",
       "      <td>Jiang</td>\n",
       "      <td>Y</td>\n",
       "      <td>0</td>\n",
       "      <td>North American Sales Manager</td>\n",
       "      <td>2010-08-04</td>\n",
       "      <td>...</td>\n",
       "      <td>2</td>\n",
       "      <td>48.101</td>\n",
       "      <td>14</td>\n",
       "      <td>27</td>\n",
       "      <td>1</td>\n",
       "      <td>1</td>\n",
       "      <td>Sales</td>\n",
       "      <td>b'\\xff\\xd8\\xff\\xe0\\x00\\x10JFIF\\x00\\x01\\x01\\x01...</td>\n",
       "      <td>Sales Manager</td>\n",
       "      <td>5</td>\n",
       "    </tr>\n",
       "  </tbody>\n",
       "</table>\n",
       "<p>5 rows × 29 columns</p>\n",
       "</div>"
      ],
      "text/plain": [
       "   EmployeeKey  ParentEmployeeKey  EmployeeNationalIDAlternateKey  \\\n",
       "0          272              277.0                       502097814   \n",
       "1          272              277.0                       502097814   \n",
       "2          272              277.0                       502097814   \n",
       "3          272              277.0                       502097814   \n",
       "4          272              277.0                       502097814   \n",
       "\n",
       "   ParentEmployeeNationalIDAlternateKey FirstName LastName MiddleName  \\\n",
       "0                           112432117.0   Stephen    Jiang          Y   \n",
       "1                           112432117.0   Stephen    Jiang          Y   \n",
       "2                           112432117.0   Stephen    Jiang          Y   \n",
       "3                           112432117.0   Stephen    Jiang          Y   \n",
       "4                           112432117.0   Stephen    Jiang          Y   \n",
       "\n",
       "   NameStyle                         Title    HireDate  ... PayFrequency  \\\n",
       "0          0  North American Sales Manager  2010-08-04  ...            2   \n",
       "1          0  North American Sales Manager  2010-08-04  ...            2   \n",
       "2          0  North American Sales Manager  2010-08-04  ...            2   \n",
       "3          0  North American Sales Manager  2010-08-04  ...            2   \n",
       "4          0  North American Sales Manager  2010-08-04  ...            2   \n",
       "\n",
       "  BaseRate VacationHours SickLeaveHours CurrentFlag SalesPersonFlag  \\\n",
       "0   48.101            14             27           1               1   \n",
       "1   48.101            14             27           1               1   \n",
       "2   48.101            14             27           1               1   \n",
       "3   48.101            14             27           1               1   \n",
       "4   48.101            14             27           1               1   \n",
       "\n",
       "  DepartmentName                                      EmployeePhoto  \\\n",
       "0          Sales  b'\\xff\\xd8\\xff\\xe0\\x00\\x10JFIF\\x00\\x01\\x01\\x01...   \n",
       "1          Sales  b'\\xff\\xd8\\xff\\xe0\\x00\\x10JFIF\\x00\\x01\\x01\\x01...   \n",
       "2          Sales  b'\\xff\\xd8\\xff\\xe0\\x00\\x10JFIF\\x00\\x01\\x01\\x01...   \n",
       "3          Sales  b'\\xff\\xd8\\xff\\xe0\\x00\\x10JFIF\\x00\\x01\\x01\\x01...   \n",
       "4          Sales  b'\\xff\\xd8\\xff\\xe0\\x00\\x10JFIF\\x00\\x01\\x01\\x01...   \n",
       "\n",
       "        Position  SalesTerritoryKey  \n",
       "0  Sales Manager                  1  \n",
       "1  Sales Manager                  2  \n",
       "2  Sales Manager                  3  \n",
       "3  Sales Manager                  4  \n",
       "4  Sales Manager                  5  \n",
       "\n",
       "[5 rows x 29 columns]"
      ]
     },
     "execution_count": 122,
     "metadata": {},
     "output_type": "execute_result"
    }
   ],
   "source": [
    "est.head()"
   ]
  },
  {
   "cell_type": "code",
   "execution_count": 126,
   "id": "3345d69e-6dbe-4870-a693-88cd47609670",
   "metadata": {},
   "outputs": [
    {
     "data": {
      "text/plain": [
       "(296, 28)"
      ]
     },
     "execution_count": 126,
     "metadata": {},
     "output_type": "execute_result"
    }
   ],
   "source": [
    "employee.shape"
   ]
  },
  {
   "cell_type": "code",
   "execution_count": 128,
   "id": "dc5c790a-f69c-45e9-a100-45c37ae1ed83",
   "metadata": {},
   "outputs": [
    {
     "data": {
      "text/plain": [
       "(39, 29)"
      ]
     },
     "execution_count": 128,
     "metadata": {},
     "output_type": "execute_result"
    }
   ],
   "source": [
    "est.shape"
   ]
  },
  {
   "cell_type": "code",
   "execution_count": 132,
   "id": "3c418d52-3bab-4ef9-94e2-c7c367b23e1f",
   "metadata": {},
   "outputs": [
    {
     "data": {
      "text/plain": [
       "array([  1,   2,   3,   4,   5,   6,   7,   8,   9,  10,  11,  12,  13,\n",
       "        14,  15,  16,  17,  18,  19,  20,  21,  22,  23,  24,  25,  26,\n",
       "        27,  28,  29,  30,  31,  32,  33,  34,  35,  36,  37,  38,  39,\n",
       "        40,  41,  42,  43,  44,  45,  46,  47,  48,  49,  50,  51,  52,\n",
       "        53,  54,  55,  56,  57,  58,  59,  60,  61,  62,  63,  64,  65,\n",
       "        66,  67,  68,  69,  70,  71,  72,  73,  74,  75,  76,  77,  78,\n",
       "        79,  80,  81,  82,  83,  84,  85,  86,  87,  88,  89,  90,  91,\n",
       "        92,  93,  94,  95,  96,  97,  98,  99, 100, 101, 102, 103, 104,\n",
       "       105, 106, 107, 108, 109, 110, 111, 112, 113, 114, 115, 116, 117,\n",
       "       118, 119, 120, 121, 122, 123, 124, 125, 126, 127, 128, 129, 130,\n",
       "       131, 132, 133, 134, 135, 136, 137, 138, 139, 140, 141, 142, 143,\n",
       "       144, 145, 146, 147, 148, 149, 150, 151, 152, 153, 154, 155, 156,\n",
       "       157, 158, 159, 160, 161, 162, 163, 164, 165, 166, 167, 168, 169,\n",
       "       170, 171, 172, 173, 174, 175, 176, 177, 178, 179, 180, 181, 182,\n",
       "       183, 184, 185, 186, 187, 188, 189, 190, 191, 192, 193, 194, 195,\n",
       "       196, 197, 198, 199, 200, 201, 202, 203, 204, 205, 206, 207, 208,\n",
       "       209, 210, 211, 212, 213, 214, 215, 216, 217, 218, 219, 220, 221,\n",
       "       222, 223, 224, 225, 226, 227, 228, 229, 230, 231, 232, 233, 234,\n",
       "       235, 236, 237, 238, 239, 240, 241, 242, 243, 244, 245, 246, 247,\n",
       "       248, 249, 250, 251, 252, 253, 254, 255, 256, 257, 258, 259, 260,\n",
       "       261, 262, 263, 264, 265, 266, 267, 268, 269, 270, 271, 272, 273,\n",
       "       274, 275, 276, 277, 278, 279, 280, 281, 282, 283, 284, 285, 286,\n",
       "       287, 288, 289, 290, 291, 292, 293, 294, 295, 296], dtype=int64)"
      ]
     },
     "execution_count": 132,
     "metadata": {},
     "output_type": "execute_result"
    }
   ],
   "source": [
    "employee.EmployeeKey.unique()"
   ]
  },
  {
   "cell_type": "code",
   "execution_count": 134,
   "id": "bf67ea98-afd3-4b78-971c-d97e8fdf56f4",
   "metadata": {},
   "outputs": [
    {
     "data": {
      "text/plain": [
       "array([272, 277, 286, 289, 293, 281, 282, 283, 287, 285, 284, 288, 290,\n",
       "       291, 292, 295, 294, 296], dtype=int64)"
      ]
     },
     "execution_count": 134,
     "metadata": {},
     "output_type": "execute_result"
    }
   ],
   "source": [
    "salesterritory.EmployeeKey.unique()"
   ]
  },
  {
   "cell_type": "code",
   "execution_count": 136,
   "id": "4aee6f0c-67fe-4cd9-9d2d-1b04d0440846",
   "metadata": {},
   "outputs": [],
   "source": [
    "query = \"SELECT * FROM dimsalesterritory\"\n",
    "territories =  pd.read_sql(sql=query, con=db_engine)"
   ]
  },
  {
   "cell_type": "code",
   "execution_count": 138,
   "id": "738dc8d8-0d61-45e6-9050-8ff0921c4164",
   "metadata": {},
   "outputs": [
    {
     "data": {
      "text/html": [
       "<div>\n",
       "<style scoped>\n",
       "    .dataframe tbody tr th:only-of-type {\n",
       "        vertical-align: middle;\n",
       "    }\n",
       "\n",
       "    .dataframe tbody tr th {\n",
       "        vertical-align: top;\n",
       "    }\n",
       "\n",
       "    .dataframe thead th {\n",
       "        text-align: right;\n",
       "    }\n",
       "</style>\n",
       "<table border=\"1\" class=\"dataframe\">\n",
       "  <thead>\n",
       "    <tr style=\"text-align: right;\">\n",
       "      <th></th>\n",
       "      <th>SalesTerritoryKey</th>\n",
       "      <th>SalesTerritoryAlternateKey</th>\n",
       "      <th>SalesTerritoryRegion</th>\n",
       "      <th>SalesTerritoryCountry</th>\n",
       "      <th>SalesTerritoryGroup</th>\n",
       "      <th>SalesTerritoryImage</th>\n",
       "    </tr>\n",
       "  </thead>\n",
       "  <tbody>\n",
       "    <tr>\n",
       "      <th>0</th>\n",
       "      <td>1</td>\n",
       "      <td>1</td>\n",
       "      <td>Northwest</td>\n",
       "      <td>United States</td>\n",
       "      <td>North America</td>\n",
       "      <td>b'\\xff\\xd8\\xff\\xe0\\x00\\x10JFIF\\x00\\x01\\x01\\x01...</td>\n",
       "    </tr>\n",
       "    <tr>\n",
       "      <th>1</th>\n",
       "      <td>2</td>\n",
       "      <td>2</td>\n",
       "      <td>Northeast</td>\n",
       "      <td>United States</td>\n",
       "      <td>North America</td>\n",
       "      <td>b'\\xff\\xd8\\xff\\xe0\\x00\\x10JFIF\\x00\\x01\\x01\\x01...</td>\n",
       "    </tr>\n",
       "    <tr>\n",
       "      <th>2</th>\n",
       "      <td>3</td>\n",
       "      <td>3</td>\n",
       "      <td>Central</td>\n",
       "      <td>United States</td>\n",
       "      <td>North America</td>\n",
       "      <td>b'\\xff\\xd8\\xff\\xe0\\x00\\x10JFIF\\x00\\x01\\x01\\x01...</td>\n",
       "    </tr>\n",
       "    <tr>\n",
       "      <th>3</th>\n",
       "      <td>4</td>\n",
       "      <td>4</td>\n",
       "      <td>Southwest</td>\n",
       "      <td>United States</td>\n",
       "      <td>North America</td>\n",
       "      <td>b'\\xff\\xd8\\xff\\xe0\\x00\\x10JFIF\\x00\\x01\\x01\\x01...</td>\n",
       "    </tr>\n",
       "    <tr>\n",
       "      <th>4</th>\n",
       "      <td>5</td>\n",
       "      <td>5</td>\n",
       "      <td>Southeast</td>\n",
       "      <td>United States</td>\n",
       "      <td>North America</td>\n",
       "      <td>b'\\xff\\xd8\\xff\\xe0\\x00\\x10JFIF\\x00\\x01\\x01\\x01...</td>\n",
       "    </tr>\n",
       "  </tbody>\n",
       "</table>\n",
       "</div>"
      ],
      "text/plain": [
       "   SalesTerritoryKey  SalesTerritoryAlternateKey SalesTerritoryRegion  \\\n",
       "0                  1                           1            Northwest   \n",
       "1                  2                           2            Northeast   \n",
       "2                  3                           3              Central   \n",
       "3                  4                           4            Southwest   \n",
       "4                  5                           5            Southeast   \n",
       "\n",
       "  SalesTerritoryCountry SalesTerritoryGroup  \\\n",
       "0         United States       North America   \n",
       "1         United States       North America   \n",
       "2         United States       North America   \n",
       "3         United States       North America   \n",
       "4         United States       North America   \n",
       "\n",
       "                                 SalesTerritoryImage  \n",
       "0  b'\\xff\\xd8\\xff\\xe0\\x00\\x10JFIF\\x00\\x01\\x01\\x01...  \n",
       "1  b'\\xff\\xd8\\xff\\xe0\\x00\\x10JFIF\\x00\\x01\\x01\\x01...  \n",
       "2  b'\\xff\\xd8\\xff\\xe0\\x00\\x10JFIF\\x00\\x01\\x01\\x01...  \n",
       "3  b'\\xff\\xd8\\xff\\xe0\\x00\\x10JFIF\\x00\\x01\\x01\\x01...  \n",
       "4  b'\\xff\\xd8\\xff\\xe0\\x00\\x10JFIF\\x00\\x01\\x01\\x01...  "
      ]
     },
     "execution_count": 138,
     "metadata": {},
     "output_type": "execute_result"
    }
   ],
   "source": [
    "territories.head()"
   ]
  },
  {
   "cell_type": "code",
   "execution_count": 140,
   "id": "0291375c-0ce7-435e-b616-932c06f6060b",
   "metadata": {},
   "outputs": [],
   "source": [
    "eat = pd.merge(left=est , right=territories, on=\"SalesTerritoryKey\")"
   ]
  },
  {
   "cell_type": "code",
   "execution_count": 144,
   "id": "01590bbf-f46c-459a-a98c-07e4d0aa00c6",
   "metadata": {},
   "outputs": [
    {
     "data": {
      "text/plain": [
       "(39, 34)"
      ]
     },
     "execution_count": 144,
     "metadata": {},
     "output_type": "execute_result"
    }
   ],
   "source": [
    "eat.shape"
   ]
  },
  {
   "cell_type": "code",
   "execution_count": 146,
   "id": "54c42f75-7153-47ff-829c-d91b89a7c4e3",
   "metadata": {},
   "outputs": [
    {
     "data": {
      "text/html": [
       "<div>\n",
       "<style scoped>\n",
       "    .dataframe tbody tr th:only-of-type {\n",
       "        vertical-align: middle;\n",
       "    }\n",
       "\n",
       "    .dataframe tbody tr th {\n",
       "        vertical-align: top;\n",
       "    }\n",
       "\n",
       "    .dataframe thead th {\n",
       "        text-align: right;\n",
       "    }\n",
       "</style>\n",
       "<table border=\"1\" class=\"dataframe\">\n",
       "  <thead>\n",
       "    <tr style=\"text-align: right;\">\n",
       "      <th></th>\n",
       "      <th>EmployeeKey</th>\n",
       "      <th>ParentEmployeeKey</th>\n",
       "      <th>EmployeeNationalIDAlternateKey</th>\n",
       "      <th>ParentEmployeeNationalIDAlternateKey</th>\n",
       "      <th>FirstName</th>\n",
       "      <th>LastName</th>\n",
       "      <th>MiddleName</th>\n",
       "      <th>NameStyle</th>\n",
       "      <th>Title</th>\n",
       "      <th>HireDate</th>\n",
       "      <th>...</th>\n",
       "      <th>SalesPersonFlag</th>\n",
       "      <th>DepartmentName</th>\n",
       "      <th>EmployeePhoto</th>\n",
       "      <th>Position</th>\n",
       "      <th>SalesTerritoryKey</th>\n",
       "      <th>SalesTerritoryAlternateKey</th>\n",
       "      <th>SalesTerritoryRegion</th>\n",
       "      <th>SalesTerritoryCountry</th>\n",
       "      <th>SalesTerritoryGroup</th>\n",
       "      <th>SalesTerritoryImage</th>\n",
       "    </tr>\n",
       "  </thead>\n",
       "  <tbody>\n",
       "    <tr>\n",
       "      <th>0</th>\n",
       "      <td>272</td>\n",
       "      <td>277.0</td>\n",
       "      <td>502097814</td>\n",
       "      <td>112432117.0</td>\n",
       "      <td>Stephen</td>\n",
       "      <td>Jiang</td>\n",
       "      <td>Y</td>\n",
       "      <td>0</td>\n",
       "      <td>North American Sales Manager</td>\n",
       "      <td>2010-08-04</td>\n",
       "      <td>...</td>\n",
       "      <td>1</td>\n",
       "      <td>Sales</td>\n",
       "      <td>b'\\xff\\xd8\\xff\\xe0\\x00\\x10JFIF\\x00\\x01\\x01\\x01...</td>\n",
       "      <td>Sales Manager</td>\n",
       "      <td>1</td>\n",
       "      <td>1</td>\n",
       "      <td>Northwest</td>\n",
       "      <td>United States</td>\n",
       "      <td>North America</td>\n",
       "      <td>b'\\xff\\xd8\\xff\\xe0\\x00\\x10JFIF\\x00\\x01\\x01\\x01...</td>\n",
       "    </tr>\n",
       "    <tr>\n",
       "      <th>1</th>\n",
       "      <td>277</td>\n",
       "      <td>277.0</td>\n",
       "      <td>112432117</td>\n",
       "      <td>112432117.0</td>\n",
       "      <td>Brian</td>\n",
       "      <td>Welcker</td>\n",
       "      <td>S</td>\n",
       "      <td>0</td>\n",
       "      <td>Director of Sales</td>\n",
       "      <td>2010-09-15</td>\n",
       "      <td>...</td>\n",
       "      <td>1</td>\n",
       "      <td>Sales</td>\n",
       "      <td>b'\\xff\\xd8\\xff\\xe0\\x00\\x10JFIF\\x00\\x01\\x01\\x01...</td>\n",
       "      <td>Sales Director</td>\n",
       "      <td>1</td>\n",
       "      <td>1</td>\n",
       "      <td>Northwest</td>\n",
       "      <td>United States</td>\n",
       "      <td>North America</td>\n",
       "      <td>b'\\xff\\xd8\\xff\\xe0\\x00\\x10JFIF\\x00\\x01\\x01\\x01...</td>\n",
       "    </tr>\n",
       "    <tr>\n",
       "      <th>2</th>\n",
       "      <td>286</td>\n",
       "      <td>272.0</td>\n",
       "      <td>61161660</td>\n",
       "      <td>502097814.0</td>\n",
       "      <td>Pamela</td>\n",
       "      <td>Ansman-Wolfe</td>\n",
       "      <td>O</td>\n",
       "      <td>0</td>\n",
       "      <td>Sales Representative</td>\n",
       "      <td>2010-12-29</td>\n",
       "      <td>...</td>\n",
       "      <td>1</td>\n",
       "      <td>Sales</td>\n",
       "      <td>b'\\x89PNG\\r\\n\\x1a\\n\\x00\\x00\\x00\\rIHDR\\x00\\x00\\...</td>\n",
       "      <td>Sales Representative</td>\n",
       "      <td>1</td>\n",
       "      <td>1</td>\n",
       "      <td>Northwest</td>\n",
       "      <td>United States</td>\n",
       "      <td>North America</td>\n",
       "      <td>b'\\xff\\xd8\\xff\\xe0\\x00\\x10JFIF\\x00\\x01\\x01\\x01...</td>\n",
       "    </tr>\n",
       "    <tr>\n",
       "      <th>3</th>\n",
       "      <td>289</td>\n",
       "      <td>272.0</td>\n",
       "      <td>987554265</td>\n",
       "      <td>502097814.0</td>\n",
       "      <td>David</td>\n",
       "      <td>Campbell</td>\n",
       "      <td>R</td>\n",
       "      <td>0</td>\n",
       "      <td>Sales Representative</td>\n",
       "      <td>2010-12-29</td>\n",
       "      <td>...</td>\n",
       "      <td>1</td>\n",
       "      <td>Sales</td>\n",
       "      <td>b'\\xff\\xd8\\xff\\xe0\\x00\\x10JFIF\\x00\\x01\\x01\\x01...</td>\n",
       "      <td>Sales Representative</td>\n",
       "      <td>1</td>\n",
       "      <td>1</td>\n",
       "      <td>Northwest</td>\n",
       "      <td>United States</td>\n",
       "      <td>North America</td>\n",
       "      <td>b'\\xff\\xd8\\xff\\xe0\\x00\\x10JFIF\\x00\\x01\\x01\\x01...</td>\n",
       "    </tr>\n",
       "    <tr>\n",
       "      <th>4</th>\n",
       "      <td>293</td>\n",
       "      <td>272.0</td>\n",
       "      <td>90836195</td>\n",
       "      <td>502097814.0</td>\n",
       "      <td>Tete</td>\n",
       "      <td>Mensa-Annan</td>\n",
       "      <td>A</td>\n",
       "      <td>0</td>\n",
       "      <td>Sales Representative</td>\n",
       "      <td>2012-04-30</td>\n",
       "      <td>...</td>\n",
       "      <td>1</td>\n",
       "      <td>Sales</td>\n",
       "      <td>b'\\xff\\xd8\\xff\\xe0\\x00\\x10JFIF\\x00\\x01\\x01\\x01...</td>\n",
       "      <td>Sales Representative</td>\n",
       "      <td>1</td>\n",
       "      <td>1</td>\n",
       "      <td>Northwest</td>\n",
       "      <td>United States</td>\n",
       "      <td>North America</td>\n",
       "      <td>b'\\xff\\xd8\\xff\\xe0\\x00\\x10JFIF\\x00\\x01\\x01\\x01...</td>\n",
       "    </tr>\n",
       "  </tbody>\n",
       "</table>\n",
       "<p>5 rows × 34 columns</p>\n",
       "</div>"
      ],
      "text/plain": [
       "   EmployeeKey  ParentEmployeeKey  EmployeeNationalIDAlternateKey  \\\n",
       "0          272              277.0                       502097814   \n",
       "1          277              277.0                       112432117   \n",
       "2          286              272.0                        61161660   \n",
       "3          289              272.0                       987554265   \n",
       "4          293              272.0                        90836195   \n",
       "\n",
       "   ParentEmployeeNationalIDAlternateKey FirstName      LastName MiddleName  \\\n",
       "0                           112432117.0   Stephen         Jiang          Y   \n",
       "1                           112432117.0     Brian       Welcker          S   \n",
       "2                           502097814.0    Pamela  Ansman-Wolfe          O   \n",
       "3                           502097814.0     David      Campbell          R   \n",
       "4                           502097814.0      Tete   Mensa-Annan          A   \n",
       "\n",
       "   NameStyle                         Title    HireDate  ... SalesPersonFlag  \\\n",
       "0          0  North American Sales Manager  2010-08-04  ...               1   \n",
       "1          0             Director of Sales  2010-09-15  ...               1   \n",
       "2          0          Sales Representative  2010-12-29  ...               1   \n",
       "3          0          Sales Representative  2010-12-29  ...               1   \n",
       "4          0          Sales Representative  2012-04-30  ...               1   \n",
       "\n",
       "  DepartmentName                                      EmployeePhoto  \\\n",
       "0          Sales  b'\\xff\\xd8\\xff\\xe0\\x00\\x10JFIF\\x00\\x01\\x01\\x01...   \n",
       "1          Sales  b'\\xff\\xd8\\xff\\xe0\\x00\\x10JFIF\\x00\\x01\\x01\\x01...   \n",
       "2          Sales  b'\\x89PNG\\r\\n\\x1a\\n\\x00\\x00\\x00\\rIHDR\\x00\\x00\\...   \n",
       "3          Sales  b'\\xff\\xd8\\xff\\xe0\\x00\\x10JFIF\\x00\\x01\\x01\\x01...   \n",
       "4          Sales  b'\\xff\\xd8\\xff\\xe0\\x00\\x10JFIF\\x00\\x01\\x01\\x01...   \n",
       "\n",
       "               Position SalesTerritoryKey SalesTerritoryAlternateKey  \\\n",
       "0         Sales Manager                 1                          1   \n",
       "1        Sales Director                 1                          1   \n",
       "2  Sales Representative                 1                          1   \n",
       "3  Sales Representative                 1                          1   \n",
       "4  Sales Representative                 1                          1   \n",
       "\n",
       "  SalesTerritoryRegion  SalesTerritoryCountry SalesTerritoryGroup  \\\n",
       "0            Northwest          United States       North America   \n",
       "1            Northwest          United States       North America   \n",
       "2            Northwest          United States       North America   \n",
       "3            Northwest          United States       North America   \n",
       "4            Northwest          United States       North America   \n",
       "\n",
       "                                 SalesTerritoryImage  \n",
       "0  b'\\xff\\xd8\\xff\\xe0\\x00\\x10JFIF\\x00\\x01\\x01\\x01...  \n",
       "1  b'\\xff\\xd8\\xff\\xe0\\x00\\x10JFIF\\x00\\x01\\x01\\x01...  \n",
       "2  b'\\xff\\xd8\\xff\\xe0\\x00\\x10JFIF\\x00\\x01\\x01\\x01...  \n",
       "3  b'\\xff\\xd8\\xff\\xe0\\x00\\x10JFIF\\x00\\x01\\x01\\x01...  \n",
       "4  b'\\xff\\xd8\\xff\\xe0\\x00\\x10JFIF\\x00\\x01\\x01\\x01...  \n",
       "\n",
       "[5 rows x 34 columns]"
      ]
     },
     "execution_count": 146,
     "metadata": {},
     "output_type": "execute_result"
    }
   ],
   "source": [
    "eat.head()"
   ]
  },
  {
   "cell_type": "code",
   "execution_count": 148,
   "id": "c2f2699c-0a2b-454e-83b3-e2bada103ff7",
   "metadata": {},
   "outputs": [
    {
     "data": {
      "text/plain": [
       "SalesTerritoryRegion\n",
       "Australia         3\n",
       "Canada            4\n",
       "Central           5\n",
       "France            4\n",
       "Germany           3\n",
       "Northeast         3\n",
       "Northwest         5\n",
       "Southeast         4\n",
       "Southwest         5\n",
       "United Kingdom    3\n",
       "Name: FirstName, dtype: int64"
      ]
     },
     "execution_count": 148,
     "metadata": {},
     "output_type": "execute_result"
    }
   ],
   "source": [
    "eat.groupby(\"SalesTerritoryRegion\").FirstName.count()"
   ]
  },
  {
   "cell_type": "code",
   "execution_count": 150,
   "id": "b8b9fa59-22b9-43ec-9631-8c15b97bf43e",
   "metadata": {},
   "outputs": [
    {
     "data": {
      "text/plain": [
       "SalesTerritoryCountry\n",
       "Australia          3\n",
       "Canada             4\n",
       "France             4\n",
       "Germany            3\n",
       "United Kingdom     3\n",
       "United States     22\n",
       "Name: FirstName, dtype: int64"
      ]
     },
     "execution_count": 150,
     "metadata": {},
     "output_type": "execute_result"
    }
   ],
   "source": [
    "eat.groupby(\"SalesTerritoryCountry\").FirstName.count()"
   ]
  },
  {
   "cell_type": "code",
   "execution_count": 152,
   "id": "7d48e01b-1beb-478e-8a95-b6a6594a81f9",
   "metadata": {},
   "outputs": [
    {
     "data": {
      "text/plain": [
       "SalesTerritoryCountry\n",
       "Australia         47.764433\n",
       "Canada            41.592550\n",
       "France            41.592550\n",
       "Germany           47.764433\n",
       "United Kingdom    47.764433\n",
       "United States     39.909309\n",
       "Name: BaseRate, dtype: float64"
      ]
     },
     "execution_count": 152,
     "metadata": {},
     "output_type": "execute_result"
    }
   ],
   "source": [
    "eat.groupby(\"SalesTerritoryCountry\").BaseRate.mean()"
   ]
  },
  {
   "cell_type": "code",
   "execution_count": null,
   "id": "46ce9edd-bb22-47ee-b7bc-ff9a7262108c",
   "metadata": {},
   "outputs": [],
   "source": []
  }
 ],
 "metadata": {
  "kernelspec": {
   "display_name": "Python 3 (ipykernel)",
   "language": "python",
   "name": "python3"
  },
  "language_info": {
   "codemirror_mode": {
    "name": "ipython",
    "version": 3
   },
   "file_extension": ".py",
   "mimetype": "text/x-python",
   "name": "python",
   "nbconvert_exporter": "python",
   "pygments_lexer": "ipython3",
   "version": "3.11.7"
  }
 },
 "nbformat": 4,
 "nbformat_minor": 5
}
